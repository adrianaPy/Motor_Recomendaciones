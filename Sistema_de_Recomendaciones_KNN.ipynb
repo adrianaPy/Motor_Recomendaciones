{
  "nbformat": 4,
  "nbformat_minor": 0,
  "metadata": {
    "colab": {
      "name": "Sistema_de_Recomendaciones_KNN.ipynb",
      "provenance": [],
      "collapsed_sections": []
    },
    "kernelspec": {
      "display_name": "Python 3",
      "language": "python",
      "name": "python3"
    },
    "language_info": {
      "codemirror_mode": {
        "name": "ipython",
        "version": 3
      },
      "file_extension": ".py",
      "mimetype": "text/x-python",
      "name": "python",
      "nbconvert_exporter": "python",
      "pygments_lexer": "ipython3",
      "version": "3.7.6"
    }
  },
  "cells": [
    {
      "cell_type": "markdown",
      "metadata": {
        "id": "kOHbMiRDRVk1"
      },
      "source": [
        "**Construyendo un modelo de k-vecinos más cercanos (k-NN) con Scikit-learn**"
      ]
    },
    {
      "cell_type": "markdown",
      "metadata": {
        "id": "VCnH_NgTRsSr"
      },
      "source": [
        "k-Nearest-Neighbors (k-NN) consiste en un modelo de aprendizaje automático supervisado, es decir, es un modelo que aprende de datos que ya están previamente etiquetados, tomando un conjunto de objetos de entrada y valores de salida. Posteriormente, el modelo se entrena con esos datos para aprender a asignar las entradas a la salida deseada para que pueda aprender a hacer predicciones sobre datos \"invisibles\" (no catalogados aún). \n",
        "\n",
        "Es aquí que, los modelos k-NN funcionan tomando un punto de datos y mirando los \"k\" puntos de datos etiquetados más cercanos. Luego, al punto de datos se le asigna la etiqueta de la mayoría de los \"k\" puntos más cercanos.\n",
        "\n",
        "En este código usaremos \"Scikit-learn\", la cual es una biblioteca de aprendizaje automático para Python."
      ]
    },
    {
      "cell_type": "markdown",
      "metadata": {
        "id": "knGcZZ5g_Qe-"
      },
      "source": [
        "Para nuestro modelo k-NN, el primer paso es leer los datos que usaremos como entrada. Para empezar, usaremos Pandas para leer los datos.\n",
        "\n",
        "En este conjunto de datos contamos con 1000 entradas, donde cada una de estas representa a una persona que recibe un crédito de un banco alemán. Asimismo, contamos con demás características de los clientes."
      ]
    },
    {
      "cell_type": "code",
      "metadata": {
        "colab": {
          "base_uri": "https://localhost:8080/",
          "height": 272
        },
        "id": "k-K2NiPe7LyM",
        "outputId": "82826cd8-1cb7-4293-b7b9-896ea8697980"
      },
      "source": [
        "import numpy\n",
        "import pandas as pd\n",
        "import numpy as np\n",
        "import seaborn as sns\n",
        "import matplotlib.pyplot as plt\n",
        "from sklearn.preprocessing import StandardScaler\n",
        "from sklearn.cluster import KMeans, AffinityPropagation\n",
        "import warnings\n",
        "warnings.filterwarnings(\"ignore\")\n",
        "\n",
        "#Cargamos la base de datos:\n",
        "data = pd.read_csv('german_credit_data.csv')\n",
        "\n",
        "# Visualizamos las primeras 6 entradas:\n",
        "data.head(6)"
      ],
      "execution_count": null,
      "outputs": [
        {
          "output_type": "execute_result",
          "data": {
            "text/html": [
              "<div>\n",
              "<style scoped>\n",
              "    .dataframe tbody tr th:only-of-type {\n",
              "        vertical-align: middle;\n",
              "    }\n",
              "\n",
              "    .dataframe tbody tr th {\n",
              "        vertical-align: top;\n",
              "    }\n",
              "\n",
              "    .dataframe thead th {\n",
              "        text-align: right;\n",
              "    }\n",
              "</style>\n",
              "<table border=\"1\" class=\"dataframe\">\n",
              "  <thead>\n",
              "    <tr style=\"text-align: right;\">\n",
              "      <th></th>\n",
              "      <th>Customer</th>\n",
              "      <th>Age</th>\n",
              "      <th>Sex</th>\n",
              "      <th>Sex_Numeric</th>\n",
              "      <th>Job</th>\n",
              "      <th>Housing</th>\n",
              "      <th>Housing_numeric</th>\n",
              "      <th>free</th>\n",
              "      <th>own</th>\n",
              "      <th>rent</th>\n",
              "      <th>Saving accounts</th>\n",
              "      <th>Saving accounts_Numeric</th>\n",
              "      <th>little</th>\n",
              "      <th>moderate</th>\n",
              "      <th>NA</th>\n",
              "      <th>quite_rich</th>\n",
              "      <th>rich</th>\n",
              "      <th>Credit amount</th>\n",
              "      <th>Duration</th>\n",
              "      <th>Purpose</th>\n",
              "      <th>Purpose_Numeric</th>\n",
              "      <th>business</th>\n",
              "      <th>car</th>\n",
              "      <th>domestic_appliances</th>\n",
              "      <th>education</th>\n",
              "      <th>furniture/equipment</th>\n",
              "      <th>radio/TV</th>\n",
              "      <th>repairs</th>\n",
              "      <th>vacation/others</th>\n",
              "    </tr>\n",
              "  </thead>\n",
              "  <tbody>\n",
              "    <tr>\n",
              "      <th>0</th>\n",
              "      <td>0</td>\n",
              "      <td>67</td>\n",
              "      <td>male</td>\n",
              "      <td>0</td>\n",
              "      <td>2</td>\n",
              "      <td>own</td>\n",
              "      <td>1</td>\n",
              "      <td>0</td>\n",
              "      <td>1</td>\n",
              "      <td>0</td>\n",
              "      <td>NaN</td>\n",
              "      <td>0</td>\n",
              "      <td>0</td>\n",
              "      <td>0</td>\n",
              "      <td>1</td>\n",
              "      <td>0</td>\n",
              "      <td>0</td>\n",
              "      <td>1169</td>\n",
              "      <td>6</td>\n",
              "      <td>radio/TV</td>\n",
              "      <td>6</td>\n",
              "      <td>0</td>\n",
              "      <td>0</td>\n",
              "      <td>0</td>\n",
              "      <td>0</td>\n",
              "      <td>0</td>\n",
              "      <td>1</td>\n",
              "      <td>0</td>\n",
              "      <td>0</td>\n",
              "    </tr>\n",
              "    <tr>\n",
              "      <th>1</th>\n",
              "      <td>1</td>\n",
              "      <td>22</td>\n",
              "      <td>female</td>\n",
              "      <td>1</td>\n",
              "      <td>2</td>\n",
              "      <td>own</td>\n",
              "      <td>1</td>\n",
              "      <td>0</td>\n",
              "      <td>1</td>\n",
              "      <td>0</td>\n",
              "      <td>little</td>\n",
              "      <td>1</td>\n",
              "      <td>1</td>\n",
              "      <td>0</td>\n",
              "      <td>0</td>\n",
              "      <td>0</td>\n",
              "      <td>0</td>\n",
              "      <td>5951</td>\n",
              "      <td>48</td>\n",
              "      <td>radio/TV</td>\n",
              "      <td>6</td>\n",
              "      <td>0</td>\n",
              "      <td>0</td>\n",
              "      <td>0</td>\n",
              "      <td>0</td>\n",
              "      <td>0</td>\n",
              "      <td>1</td>\n",
              "      <td>0</td>\n",
              "      <td>0</td>\n",
              "    </tr>\n",
              "    <tr>\n",
              "      <th>2</th>\n",
              "      <td>2</td>\n",
              "      <td>49</td>\n",
              "      <td>male</td>\n",
              "      <td>0</td>\n",
              "      <td>1</td>\n",
              "      <td>own</td>\n",
              "      <td>1</td>\n",
              "      <td>0</td>\n",
              "      <td>1</td>\n",
              "      <td>0</td>\n",
              "      <td>little</td>\n",
              "      <td>1</td>\n",
              "      <td>1</td>\n",
              "      <td>0</td>\n",
              "      <td>0</td>\n",
              "      <td>0</td>\n",
              "      <td>0</td>\n",
              "      <td>2096</td>\n",
              "      <td>12</td>\n",
              "      <td>education</td>\n",
              "      <td>4</td>\n",
              "      <td>0</td>\n",
              "      <td>0</td>\n",
              "      <td>0</td>\n",
              "      <td>1</td>\n",
              "      <td>0</td>\n",
              "      <td>0</td>\n",
              "      <td>0</td>\n",
              "      <td>0</td>\n",
              "    </tr>\n",
              "    <tr>\n",
              "      <th>3</th>\n",
              "      <td>3</td>\n",
              "      <td>45</td>\n",
              "      <td>male</td>\n",
              "      <td>0</td>\n",
              "      <td>2</td>\n",
              "      <td>free</td>\n",
              "      <td>3</td>\n",
              "      <td>1</td>\n",
              "      <td>0</td>\n",
              "      <td>0</td>\n",
              "      <td>little</td>\n",
              "      <td>1</td>\n",
              "      <td>1</td>\n",
              "      <td>0</td>\n",
              "      <td>0</td>\n",
              "      <td>0</td>\n",
              "      <td>0</td>\n",
              "      <td>7882</td>\n",
              "      <td>42</td>\n",
              "      <td>furniture/equipment</td>\n",
              "      <td>5</td>\n",
              "      <td>0</td>\n",
              "      <td>0</td>\n",
              "      <td>0</td>\n",
              "      <td>0</td>\n",
              "      <td>1</td>\n",
              "      <td>0</td>\n",
              "      <td>0</td>\n",
              "      <td>0</td>\n",
              "    </tr>\n",
              "    <tr>\n",
              "      <th>4</th>\n",
              "      <td>4</td>\n",
              "      <td>53</td>\n",
              "      <td>male</td>\n",
              "      <td>0</td>\n",
              "      <td>2</td>\n",
              "      <td>free</td>\n",
              "      <td>3</td>\n",
              "      <td>1</td>\n",
              "      <td>0</td>\n",
              "      <td>0</td>\n",
              "      <td>little</td>\n",
              "      <td>1</td>\n",
              "      <td>1</td>\n",
              "      <td>0</td>\n",
              "      <td>0</td>\n",
              "      <td>0</td>\n",
              "      <td>0</td>\n",
              "      <td>4870</td>\n",
              "      <td>24</td>\n",
              "      <td>car</td>\n",
              "      <td>2</td>\n",
              "      <td>0</td>\n",
              "      <td>1</td>\n",
              "      <td>0</td>\n",
              "      <td>0</td>\n",
              "      <td>0</td>\n",
              "      <td>0</td>\n",
              "      <td>0</td>\n",
              "      <td>0</td>\n",
              "    </tr>\n",
              "    <tr>\n",
              "      <th>5</th>\n",
              "      <td>5</td>\n",
              "      <td>35</td>\n",
              "      <td>male</td>\n",
              "      <td>0</td>\n",
              "      <td>1</td>\n",
              "      <td>free</td>\n",
              "      <td>3</td>\n",
              "      <td>1</td>\n",
              "      <td>0</td>\n",
              "      <td>0</td>\n",
              "      <td>NaN</td>\n",
              "      <td>0</td>\n",
              "      <td>0</td>\n",
              "      <td>0</td>\n",
              "      <td>1</td>\n",
              "      <td>0</td>\n",
              "      <td>0</td>\n",
              "      <td>9055</td>\n",
              "      <td>36</td>\n",
              "      <td>education</td>\n",
              "      <td>4</td>\n",
              "      <td>0</td>\n",
              "      <td>0</td>\n",
              "      <td>0</td>\n",
              "      <td>1</td>\n",
              "      <td>0</td>\n",
              "      <td>0</td>\n",
              "      <td>0</td>\n",
              "      <td>0</td>\n",
              "    </tr>\n",
              "  </tbody>\n",
              "</table>\n",
              "</div>"
            ],
            "text/plain": [
              "   Customer  Age     Sex  ...  radio/TV  repairs vacation/others\n",
              "0         0   67    male  ...         1        0               0\n",
              "1         1   22  female  ...         1        0               0\n",
              "2         2   49    male  ...         0        0               0\n",
              "3         3   45    male  ...         0        0               0\n",
              "4         4   53    male  ...         0        0               0\n",
              "5         5   35    male  ...         0        0               0\n",
              "\n",
              "[6 rows x 29 columns]"
            ]
          },
          "metadata": {
            "tags": []
          },
          "execution_count": 1
        }
      ]
    },
    {
      "cell_type": "markdown",
      "metadata": {
        "id": "-Fq71pILaeIJ"
      },
      "source": [
        "Los datos contenidos en la base son:\n",
        "\n",
        "1. Edad (numérica)\n",
        "2. Sexo (categórica: masculino, femenino)\n",
        "3. Trabajo (numérico: 0 - no calificado y no residente, 1 - no calificado y residente, 2 - calificado, 3 - altamente calificado)\n",
        "4. Vivienda (categórica: propia, alquilada o gratuita)\n",
        "5. Ahorro de cuentas (categórica: pequeño, moderado, rico,bastante rico)\n",
        "6. Monto del crédito (numérico: en DM - Deutsch Mark)\n",
        "7. Duración (numérica, en meses)\n",
        "8. Propósito (categórica: automóvil, muebles/equipo, radio/TV, electrodomésticos, reparaciones, educación, negocios, vacaciones/otros)"
      ]
    },
    {
      "cell_type": "markdown",
      "metadata": {
        "id": "sws8lRGwKW_j"
      },
      "source": [
        "\n",
        "Realizamos una primera visualización gráfica de nuestros datos no categóricos (numéricos) por medio de un gráfico 3D con ayuda de la paquetería \"mpl_toolkits.mplot3d\": \n"
      ]
    },
    {
      "cell_type": "code",
      "metadata": {
        "colab": {
          "base_uri": "https://localhost:8080/",
          "height": 374
        },
        "id": "brU8evc79iqy",
        "outputId": "00a3d0fb-26da-4da1-c69c-f5fb76a65755"
      },
      "source": [
        "from mpl_toolkits.mplot3d import Axes3D \n",
        "fig = plt.figure(figsize=(10,6))\n",
        "ax = fig.add_subplot(111, projection='3d')\n",
        "ax.scatter(data[\"Credit amount\"], data[\"Duration\"], data[\"Age\"])\n",
        "ax.set_xlabel(\"Credit amount\")\n",
        "ax.set_ylabel(\"Duration\")\n",
        "ax.set_zlabel(\"Age\")"
      ],
      "execution_count": null,
      "outputs": [
        {
          "output_type": "execute_result",
          "data": {
            "text/plain": [
              "Text(0.5, 0, 'Age')"
            ]
          },
          "metadata": {
            "tags": []
          },
          "execution_count": 2
        },
        {
          "output_type": "display_data",
          "data": {
            "image/png": "[encoded data removed]",
            "text/plain": [
              "<Figure size 720x432 with 1 Axes>"
            ]
          },
          "metadata": {
            "tags": [],
            "needs_background": "light"
          }
        }
      ]
    },
    {
      "cell_type": "markdown",
      "metadata": {
        "id": "o0Xr1mj7ZlAh"
      },
      "source": [
        "Creamos ahora un diccionario que nos servirá al momento de asignar productos a los clientes de acuerdo con su edad y monto de crédito."
      ]
    },
    {
      "cell_type": "code",
      "metadata": {
        "id": "cx20OIVzZcUN"
      },
      "source": [
        "# Diccionario de productos a asignar: \n",
        "credict =\t{\n",
        "  \"key_A\": \"Credict Gold\",\n",
        "  \"key_B\": \"Credict Silver \",\n",
        "  \"key_C\": \"Credict bronze \"\n",
        "}"
      ],
      "execution_count": null,
      "outputs": []
    },
    {
      "cell_type": "code",
      "metadata": {
        "id": "rXSLodOs9nTp"
      },
      "source": [
        "class Client(object):\n",
        "\n",
        "    def set_name(self,name):\n",
        "      self.name = name\n",
        "\n",
        "    def set_age(self,age):\n",
        "      self.age = age\n",
        "\n",
        "    def set_credit_amount(self,mount):\n",
        "      self.mount = mount\n",
        "\n",
        "    def set_duration(self,duration):\n",
        "      self.duration = duration\n",
        "\n",
        "    def set_n_age(self,nage):\n",
        "      self.nage = nage\n",
        "\n",
        "    def set_n_credit_amount(self,nmount):\n",
        "      self.nmount = nmount\n",
        "\n",
        "    def set_n_duration(self,nduration):\n",
        "      self.nduration = nduration\n",
        "\n",
        "    def set_key(self,key):\n",
        "      self.key = key\n",
        "    \n",
        "    def set_num_key(self, num_key):\n",
        "      self.num_key = num_key\n",
        "\n",
        "    def get_name(self):\n",
        "      return self.name\n",
        "\n",
        "    def get_age(self):\n",
        "      return self.age\n",
        "\n",
        "    def get_credit_amount(self):\n",
        "      return self.mount\n",
        "\n",
        "    def get_duration(self):\n",
        "      return self.duration\n",
        "\n",
        "    def get_key(self):\n",
        "      return self.key \n",
        " \n",
        "    def get_n_age(self):\n",
        "      return self.nage\n",
        "\n",
        "    def get_n_credit_amount(self):\n",
        "      return self.nmount\n",
        "\n",
        "    def get_n_duration(self):\n",
        "      return self.nduration\n",
        "    \n",
        "    def get_num_key(self):\n",
        "      return self.num_key\n"
      ],
      "execution_count": null,
      "outputs": []
    },
    {
      "cell_type": "markdown",
      "metadata": {
        "id": "KporihJEkDb_"
      },
      "source": [
        "\n",
        "Dividamos nuestro conjunto de datos en \"datos de entrada\" (X) y \"datos objetivo\" o \"datos destino\" (y). En este caso, los datos de entrada serán las características de los clientes en cuestión, y los datos de destino serán las llaves que les queremos asignar, por medio del diccionario \"credict\"."
      ]
    },
    {
      "cell_type": "code",
      "metadata": {
        "id": "p4UkPoss9snc"
      },
      "source": [
        "# Definimos la siguiente clase:\n",
        "\n",
        "class Clients():\n",
        "  def __init__(self,data):\n",
        "    self.data = data\n",
        "    self.nClients = len(data)\n",
        "    self.clients = numpy.ndarray((self.nClients),dtype=numpy.object)\n",
        "    self.y = numpy.ndarray(self.nClients,dtype=int)\n",
        "    self.load_data()\n",
        "    self.set_key()\n",
        "    self.normalization()\n",
        "\n",
        "  def load_data(self):\n",
        "      for c in range(self.nClients):\n",
        "          client = Client()\n",
        "          client.set_age(self.data[\"Age\"][c])\n",
        "          client.set_credit_amount(self.data[\"Credit amount\"][c])\n",
        "          client.set_duration(self.data[\"Duration\"][c])\n",
        "          self.clients[c] = client\n",
        "          #print(self.clients[c].get_age()) \n",
        "\n",
        "  def set_key(self):\n",
        "\n",
        "      for c in range(self.nClients):\n",
        "\n",
        "        #print(self.clients[c].get_age()) #OK: aparecen las edades\n",
        "        #print(self.clients[c].get_credit_amount()) #OK: aparece el monto de cada cliente\n",
        "\n",
        "        if self.clients[c].get_credit_amount() > 5000:\n",
        "          if  self.clients[c].get_age() > 20  and self.clients[c].get_age() < 50:\n",
        "            self.clients[c].set_key(\"key_A\")\n",
        "            self.clients[c].set_num_key(0)\n",
        "          else:\n",
        "            self.clients[c].set_key(\"key_B\")\n",
        "            self.clients[c].set_num_key(1)\n",
        "\n",
        "        if self.clients[c].get_credit_amount() < 5000 and  self.clients[c].get_credit_amount() > 1000:\n",
        "          if  self.clients[c].get_age() > 20  and self.clients[c].get_age() < 50:\n",
        "            self.clients[c].set_key(\"key_B\")\n",
        "            self.clients[c].set_num_key(1)\n",
        "          else:\n",
        "            self.clients[c].set_key(\"key_C\")\n",
        "            self.clients[c].set_num_key(2)\n",
        "\n",
        "        if self.clients[c].get_credit_amount() < 1000:\n",
        "          self.clients[c].set_key(\"key_C\")\n",
        "          self.clients[c].set_num_key(2)\n",
        "\n",
        "        #print(self.clients[c].get_key()) # OK: asignamos las llaves \n",
        "\n",
        "  def normalization(self):\n",
        "      data_log = np.log(self.data)\n",
        "      scaler = StandardScaler()\n",
        "      self.data_log_scaler = scaler.fit_transform(data_log)\n",
        "      #print(data_log_scaler)\n",
        "      #print()\n",
        "\n",
        "      for c in range(self.nClients):\n",
        "        self.clients[c].set_n_age(self.data_log_scaler[c,0])\n",
        "        self.clients[c].set_n_credit_amount(self.data_log_scaler[c,1])\n",
        "        self.clients[c].set_n_duration(self.data_log_scaler[c,2])\n",
        "        #print(self.clients[c].get_n_age(), self.clients[c].get_n_credit_amount(), self.clients[c].get_n_duration())\n",
        "\n",
        "  def getX(self):\n",
        "    return self.data_log_scaler\n",
        "  \n",
        "  def getY(self):\n",
        "    for c in range(self.nClients):\n",
        "      self.y[c] = self.clients[c].get_num_key();\n",
        "    \n",
        "    return self.y"
      ],
      "execution_count": null,
      "outputs": []
    },
    {
      "cell_type": "code",
      "metadata": {
        "colab": {
          "base_uri": "https://localhost:8080/"
        },
        "id": "paWEYPme93Ys",
        "outputId": "0096111a-09c5-4ec5-e071-96e90e074caa"
      },
      "source": [
        "selected_cols = [\"Age\",\"Credit amount\", \"Duration\"]\n",
        "c_data = data.loc[:,selected_cols]\n",
        "clients = Clients(c_data)\n",
        "\n",
        "# Veamos las dimensiones de nuestros datos a trabajar (1000 clientes en la base):\n",
        "X=clients.getX()\n",
        "print(X.shape)\n",
        "\n",
        "y = clients.getY()\n",
        "print(y.shape)"
      ],
      "execution_count": null,
      "outputs": [
        {
          "output_type": "stream",
          "text": [
            "(1000, 3)\n",
            "(1000,)\n"
          ],
          "name": "stdout"
        }
      ]
    },
    {
      "cell_type": "markdown",
      "metadata": {
        "id": "T8cGIVbgMRez"
      },
      "source": [
        "Ahora dividiremos el conjunto de datos en datos de entrenamiento y datos de prueba. Los datos de entrenamiento son los datos de los que se basará el modelo. Los datos de prueba son los datos que usaremos para ver qué tan bien se desempeña el modelo en datos que no han sido clasificados.\n",
        "\n",
        "Scikit-learn tiene una función que podemos usar llamada \"train_test_split\" que nos facilita dividir nuestro conjunto de datos en datos de entrenamiento y de prueba:"
      ]
    },
    {
      "cell_type": "code",
      "metadata": {
        "id": "r5XRqggv-WU6"
      },
      "source": [
        "from sklearn.model_selection import train_test_split\n",
        "\n",
        "X_train, X_test, y_train, y_test = train_test_split(X, y, test_size=0.2, random_state=1, stratify=y)\n",
        "\n",
        "# x1, x2, y1, y2, idx1, idx2 = train_test_split(data, labels, indices, test_size=0.2)\n"
      ],
      "execution_count": null,
      "outputs": []
    },
    {
      "cell_type": "markdown",
      "metadata": {
        "id": "W7ZQ0N6zNpXJ"
      },
      "source": [
        "\"Train_test_split\" incluye 5 parámetros. Los dos primeros parámetros son los datos de entrada y de destino que dividimos anteriormente. A continuación, estableceremos \"test_size\" en 0,2. Esto significa que el 20% de todos los datos se utilizarán para las pruebas, lo que deja el 80% de los datos como datos de entrenamiento para que el modelo aprenda. Establecer \"random_state\" en 1 asegura que obtengamos la misma división cada vez para que podamos reproducir nuestros resultados. Establecer \"stratify\" en \"y\" hace que nuestra división de entrenamiento represente la proporción de cada valor en la variable y."
      ]
    },
    {
      "cell_type": "code",
      "metadata": {
        "colab": {
          "base_uri": "https://localhost:8080/"
        },
        "id": "hhcPArTcjadd",
        "scrolled": true,
        "outputId": "eb64f8af-585d-4271-cc97-72a2bd9b7035"
      },
      "source": [
        "print(X_train)"
      ],
      "execution_count": null,
      "outputs": [
        {
          "output_type": "stream",
          "text": [
            "[[-0.30146612 -0.26602994 -0.67378981]\n",
            " [-1.29778048  2.31546392 -1.86486906]\n",
            " [ 0.10361396  0.13032388  0.51728944]\n",
            " ...\n",
            " [-0.76258638  1.23933907  0.51728944]\n",
            " [ 0.54931704  1.49135981  1.21402614]\n",
            " [-1.0194681  -0.96853164 -1.16813236]]\n"
          ],
          "name": "stdout"
        }
      ]
    },
    {
      "cell_type": "code",
      "metadata": {
        "colab": {
          "base_uri": "https://localhost:8080/"
        },
        "id": "i5bYs8o7i-je",
        "outputId": "c83a0fc3-00dc-474b-f15d-f307219ac328"
      },
      "source": [
        "print(y_train)"
      ],
      "execution_count": null,
      "outputs": [
        {
          "output_type": "stream",
          "text": [
            "[1 0 1 1 1 1 1 1 1 1 1 0 0 1 2 1 1 0 1 0 1 1 1 0 1 1 0 1 1 2 1 2 1 1 1 1 1\n",
            " 2 1 1 2 1 1 1 0 1 2 1 1 0 1 2 1 1 0 1 2 1 1 1 1 1 1 1 1 0 2 1 2 1 1 0 1 1\n",
            " 2 2 2 1 1 1 1 1 2 1 2 0 2 1 1 2 2 1 0 1 1 0 2 1 1 2 1 1 1 1 1 0 1 1 1 1 1\n",
            " 1 1 1 2 1 1 1 1 1 1 0 2 1 1 1 1 1 1 2 1 1 1 2 1 2 0 1 1 1 1 1 1 0 1 1 1 1\n",
            " 1 1 1 2 1 2 0 0 2 2 0 1 2 0 2 1 1 1 1 1 1 2 1 1 2 1 1 1 1 0 1 1 1 1 1 1 1\n",
            " 1 1 2 0 2 2 2 1 1 2 0 1 1 0 1 2 0 1 2 1 1 1 2 1 1 0 0 1 1 1 1 0 1 1 2 0 1\n",
            " 0 1 0 1 0 1 1 1 1 1 1 1 0 1 1 1 1 1 2 1 2 2 0 0 2 1 2 2 1 0 1 2 0 1 1 1 1\n",
            " 1 1 0 1 0 0 1 1 1 1 1 2 1 1 1 1 2 1 1 1 1 1 2 1 1 1 1 0 2 2 1 2 0 1 1 0 1\n",
            " 1 0 1 1 2 1 1 1 2 1 1 1 1 1 0 1 0 1 1 2 0 1 0 2 1 1 1 1 2 1 2 1 1 1 1 0 1\n",
            " 1 1 1 1 1 1 1 1 1 2 1 2 0 0 0 2 2 1 1 1 1 1 1 1 1 1 1 1 0 2 1 2 1 2 2 1 1\n",
            " 1 1 1 2 2 1 1 2 1 0 2 1 2 2 1 1 1 0 1 1 1 0 1 2 2 1 1 1 1 1 1 2 1 1 1 0 1\n",
            " 1 1 2 0 1 1 0 1 1 1 1 1 1 2 0 1 0 1 0 0 1 1 1 1 1 2 2 0 1 1 1 1 0 1 2 1 2\n",
            " 0 1 0 1 1 1 2 1 2 1 2 1 1 1 0 1 2 1 1 1 1 1 2 1 2 0 1 1 1 1 2 1 0 2 2 1 1\n",
            " 1 2 1 1 1 1 2 2 0 2 2 0 0 2 2 1 1 0 2 1 0 0 1 1 2 2 2 2 0 1 2 2 1 1 1 0 1\n",
            " 1 0 2 1 1 2 1 1 2 1 1 1 0 0 1 1 0 1 1 1 1 1 1 1 2 1 1 1 1 1 0 1 1 1 2 1 2\n",
            " 0 1 1 1 1 1 1 1 0 2 1 1 1 1 1 2 1 1 2 1 0 1 1 1 1 2 1 0 2 1 2 0 1 1 1 1 2\n",
            " 2 1 1 1 1 1 2 1 1 1 1 2 0 2 1 0 1 1 1 1 1 1 0 1 1 2 2 1 1 2 1 1 2 0 2 1 1\n",
            " 1 1 1 2 2 1 2 0 1 2 0 1 2 1 0 1 1 1 2 2 1 2 0 1 0 1 1 2 0 0 0 1 1 1 1 1 1\n",
            " 1 0 1 2 1 0 2 1 2 2 1 0 0 1 2 1 2 0 1 1 1 0 1 1 1 1 2 1 1 2 1 1 1 2 1 1 2\n",
            " 1 2 2 2 1 2 1 1 1 1 1 1 0 1 2 1 1 0 1 1 1 2 2 1 1 2 2 1 0 1 0 1 1 0 1 2 1\n",
            " 1 1 0 2 0 2 1 1 0 2 2 1 1 1 1 0 1 1 0 1 1 1 0 2 1 0 1 0 1 1 1 2 0 1 2 1 1\n",
            " 1 1 2 1 1 2 1 1 0 0 2 1 1 0 0 1 2 1 1 1 0 0 1]\n"
          ],
          "name": "stdout"
        }
      ]
    },
    {
      "cell_type": "code",
      "metadata": {
        "colab": {
          "base_uri": "https://localhost:8080/"
        },
        "id": "mq5VEyLUjDLx",
        "outputId": "7b673783-a23e-4d58-da86-6ba7612e9661"
      },
      "source": [
        "print(X_test)"
      ],
      "execution_count": null,
      "outputs": [
        {
          "output_type": "stream",
          "text": [
            "[[ 0.71216958  0.00737027  0.02294689]\n",
            " [ 0.19764313  1.32384935  0.90073132]\n",
            " [ 0.19764313 -0.83526618 -0.29034793]\n",
            " [-0.19549484 -0.7960496   0.02294689]\n",
            " [-0.19549484 -0.04795337  0.51728944]\n",
            " [ 1.78952742 -0.4103504   0.51728944]\n",
            " [-1.15572436 -0.8610477  -1.37052651]\n",
            " [ 1.29412891  0.57724815  0.51728944]\n",
            " [-1.29778048 -1.67050016 -1.86486906]\n",
            " [-0.52406959 -0.04352737  0.51728944]\n",
            " [ 0.10361396 -0.29524024 -1.16813236]\n",
            " [-0.88855661  0.32853599  0.02294689]\n",
            " [-0.64119792 -0.77444285 -1.86486906]\n",
            " [-1.29778048  2.41073832  1.7083687 ]\n",
            " [ 1.22669602  0.53529352  0.90073132]\n",
            " [-0.19549484  2.04071255  1.35156866]\n",
            " [-0.41091248 -1.71216486 -0.67378981]\n",
            " [ 0.19764313  0.62019152 -0.82330704]\n",
            " [ 1.15787265 -1.03355172 -0.67378981]\n",
            " [ 0.10361396  0.08414256 -1.59998206]\n",
            " [-0.52406959  0.98400982  1.21402614]\n",
            " [ 0.10361396  0.1370625   0.51728944]\n",
            " [-1.60142744 -0.98219097  0.02294689]\n",
            " [-1.44615223  0.64243609 -0.40890281]\n",
            " [ 0.71216958  1.50554608  1.7083687 ]\n",
            " [ 0.63173641  0.15043492  1.21402614]\n",
            " [-0.52406959  1.7009193   1.21402614]\n",
            " [ 0.10361396  0.01372548  0.51728944]\n",
            " [-0.09278474 -0.85274136  0.02294689]\n",
            " [ 1.55101063  0.50389952 -0.29034793]\n",
            " [ 0.86744478 -0.32101144 -0.67378981]\n",
            " [-1.44615223 -0.60068207 -0.29034793]\n",
            " [ 0.54931704  1.5156314   0.78217644]\n",
            " [-1.44615223 -2.21361295  0.02294689]\n",
            " [-0.09278474 -1.20119359 -0.29034793]\n",
            " [ 0.63173641 -2.92136566 -1.86486906]\n",
            " [ 0.54931704 -0.49218853  0.28783389]\n",
            " [-1.29778048 -1.29689169 -0.53624729]\n",
            " [ 1.08760027  0.45006521  0.02294689]\n",
            " [-0.52406959 -0.6905536  -0.67378981]\n",
            " [ 0.00685893  0.20303477  0.51728944]\n",
            " [ 0.86744478  1.16131247  0.51728944]\n",
            " [-1.76427998 -0.78421921 -1.16813236]\n",
            " [-0.64119792 -1.46187285 -0.67378981]\n",
            " [ 1.90268453 -0.28121633  0.51728944]\n",
            " [ 0.10361396 -0.70800972 -0.82330704]\n",
            " [-0.76258638 -1.5782221  -1.86486906]\n",
            " [ 0.46481088 -1.08828697 -0.67378981]\n",
            " [ 2.11810217 -1.50064085 -1.86486906]\n",
            " [-1.60142744 -1.26799995 -0.67378981]\n",
            " [ 1.55101063  1.44940041  1.21402614]\n",
            " [-1.29778048 -0.80001732 -0.67378981]\n",
            " [ 0.71216958  0.96015468  0.51728944]\n",
            " [ 0.10361396 -0.69237999 -0.40890281]\n",
            " [-0.88855661 -0.75319246  0.02294689]\n",
            " [-1.29778048 -0.66167805 -0.29034793]\n",
            " [-1.15572436 -2.21361295 -1.86486906]\n",
            " [-1.15572436  0.35960581  0.02294689]\n",
            " [-1.29778048 -1.35822562 -0.67378981]\n",
            " [ 0.10361396  1.92164551  1.67219127]\n",
            " [-0.64119792 -1.05033265 -1.86486906]\n",
            " [ 0.79071002  0.05326323  0.02294689]\n",
            " [ 0.10361396  0.69890896  0.51728944]\n",
            " [ 0.28909584  0.44137558 -0.67378981]\n",
            " [ 0.71216958  0.58642639  1.21402614]\n",
            " [ 0.00685893  0.24123251  0.51728944]\n",
            " [-1.0194681   0.17397444 -0.67378981]\n",
            " [ 1.22669602 -0.04463245 -0.67378981]\n",
            " [ 1.36022642  0.23323754  0.51728944]\n",
            " [ 1.22669602  1.60501291  0.90073132]\n",
            " [-0.64119792  1.21565432 -0.67378981]\n",
            " [ 1.48861975  0.90474274  0.51728944]\n",
            " [ 0.63173641 -0.63956084  0.51728944]\n",
            " [-1.29778048 -0.06862372  0.28783389]\n",
            " [ 2.16985228 -1.22860989 -0.67378981]\n",
            " [-0.41091248 -0.04352737  0.90073132]\n",
            " [-0.30146612  1.19702079  1.7083687 ]\n",
            " [-1.15572436 -0.19143254 -1.86486906]\n",
            " [-0.52406959  0.42535473  0.28783389]\n",
            " [ 2.22081227 -1.43883361 -1.16813236]\n",
            " [ 0.10361396  0.45944448 -0.67378981]\n",
            " [ 0.54931704  0.28090916  0.02294689]\n",
            " [ 0.00685893 -0.35151032  0.51728944]\n",
            " [-0.76258638 -0.91638478 -0.67378981]\n",
            " [-1.15572436 -0.55552499  0.02294689]\n",
            " [ 0.10361396 -0.90232612 -1.86486906]\n",
            " [ 0.37810951  1.51398347  0.51728944]\n",
            " [-1.29778048 -1.27086015 -0.67378981]\n",
            " [ 0.54931704  1.03331138  1.7083687 ]\n",
            " [-0.64119792 -0.19577621 -0.67378981]\n",
            " [ 0.54931704 -0.9494255  -0.67378981]\n",
            " [-0.30146612  0.23724122 -0.98708463]\n",
            " [-0.41091248 -0.36349006  0.02294689]\n",
            " [-1.29778048  1.6180075   0.02294689]\n",
            " [ 0.19764313 -1.09951867  0.02294689]\n",
            " [-1.15572436 -1.73864915 -0.67378981]\n",
            " [-1.29778048 -1.07469098 -0.98708463]\n",
            " [ 0.86744478  0.47357147  0.20399462]\n",
            " [-1.15572436 -0.37772797  0.02294689]\n",
            " [ 0.10361396 -0.63780775 -0.29034793]\n",
            " [-0.76258638  1.71834441  2.09181057]\n",
            " [ 2.60269285  0.45981823 -2.17816388]\n",
            " [ 2.27100592 -0.90125101 -1.16813236]\n",
            " [-1.15572436 -0.57373171  0.51728944]\n",
            " [-1.15572436  0.5724632   0.28783389]\n",
            " [ 0.63173641  0.08614181  0.28783389]\n",
            " [ 0.46481088  0.38321961  1.21402614]\n",
            " [-0.19549484 -0.07709898  1.21402614]\n",
            " [-1.0194681  -0.32032661  0.02294689]\n",
            " [-1.0194681   0.32480656  0.51728944]\n",
            " [ 0.10361396 -0.68508992 -0.98708463]\n",
            " [ 1.4250404  -1.56376453 -0.67378981]\n",
            " [ 0.71216958 -0.57539969 -2.56160576]\n",
            " [-1.44615223 -1.41299781 -0.29034793]\n",
            " [ 1.55101063 -0.08734343  0.51728944]\n",
            " [-1.29778048  0.05121227 -0.29034793]\n",
            " [ 0.10361396 -1.16640285 -0.67378981]\n",
            " [ 0.46481088 -0.1656736  -0.67378981]\n",
            " [-1.0194681  -0.09709411  0.02294689]\n",
            " [-0.41091248  1.14450881  0.02294689]\n",
            " [ 1.22669602 -1.02169775 -0.67378981]\n",
            " [ 1.15787265  1.73512039  0.51728944]\n",
            " [-0.41091248 -1.06611309  0.02294689]\n",
            " [ 0.37810951 -0.5846124   0.51728944]\n",
            " [ 0.19764313 -0.13033673  0.90073132]\n",
            " [-0.19549484 -0.81199433  0.51728944]\n",
            " [ 0.28909584 -0.36419823  1.21402614]\n",
            " [ 0.79071002 -0.76474012  0.51728944]\n",
            " [-0.64119792 -0.07426769  0.02294689]\n",
            " [-1.44615223 -2.79387982 -1.16813236]\n",
            " [ 0.28909584 -0.07370218 -0.67378981]\n",
            " [ 0.79071002 -0.59898106  0.51728944]\n",
            " [ 0.79071002 -0.75415082 -0.67378981]\n",
            " [-0.41091248 -1.24534412 -1.16813236]\n",
            " [ 0.79071002  0.89757914 -0.67378981]\n",
            " [-1.0194681  -0.89375027 -1.16813236]\n",
            " [ 0.19764313 -1.25803897  1.21402614]\n",
            " [ 1.4250404  -0.10575935  0.51728944]\n",
            " [-1.60142744  0.45719967  0.90073132]\n",
            " [ 0.37810951 -0.61695469 -0.67378981]\n",
            " [-0.88855661 -0.78618341  0.51728944]\n",
            " [ 0.63173641  0.34743075  0.28783389]\n",
            " [ 1.78952742  2.43299053  1.91076284]\n",
            " [-0.19549484  1.19025469 -0.67378981]\n",
            " [ 0.63173641  1.24889499  0.02294689]\n",
            " [ 0.10361396  1.13922619  1.21402614]\n",
            " [ 1.01581654 -0.54407143  0.02294689]\n",
            " [ 0.54931704  0.31313437  0.90073132]\n",
            " [ 1.01581654  0.5132549  -0.29034793]\n",
            " [ 0.94245501  1.52514806  1.47891314]\n",
            " [ 1.08760027 -0.7812785  -0.29034793]\n",
            " [-1.15572436  0.73593172  0.20399462]\n",
            " [ 0.71216958 -2.28708752 -0.67378981]\n",
            " [ 0.79071002  2.42585954  1.21402614]\n",
            " [-0.64119792 -1.51440352 -1.16813236]\n",
            " [ 2.11810217 -0.69329416 -0.53624729]\n",
            " [ 0.10361396 -1.07223432 -1.86486906]\n",
            " [ 0.00685893  0.17257413 -0.67378981]\n",
            " [-0.09278474  0.08564229 -0.67378981]\n",
            " [-1.29778048 -0.58377215 -0.67378981]\n",
            " [ 0.10361396  0.16976894 -1.16813236]\n",
            " [ 0.63173641 -0.610078   -0.67378981]\n",
            " [-1.15572436  1.44523269  2.09181057]\n",
            " [-0.88855661 -1.81496525 -1.86486906]\n",
            " [-0.76258638 -0.78815061 -0.98708463]\n",
            " [ 0.19764313  1.38268746  0.20399462]\n",
            " [ 0.94245501 -0.80999041 -0.98708463]\n",
            " [-0.19549484  0.27099578  0.51728944]\n",
            " [ 0.19764313  1.36614893  0.51728944]\n",
            " [ 1.61225666  1.73595349  1.47891314]\n",
            " [ 0.19764313 -0.82206092  0.51728944]\n",
            " [-0.09278474  0.78534252  0.02294689]\n",
            " [-1.44615223 -0.33686396 -0.67378981]\n",
            " [-0.64119792  0.68705901  0.51728944]\n",
            " [-1.0194681  -0.83935672  0.51728944]\n",
            " [-1.15572436  1.78310627  1.21402614]\n",
            " [-0.30146612  1.68845037  1.21402614]\n",
            " [-0.41091248  2.13776626  0.28783389]\n",
            " [ 0.28909584  1.44540662  1.21402614]\n",
            " [-1.0194681  -0.80200577 -0.67378981]\n",
            " [-1.15572436  2.02195008  1.7083687 ]\n",
            " [ 1.36022642 -0.93942402 -1.37052651]\n",
            " [-0.41091248  0.21980137  1.21402614]\n",
            " [ 2.06553707  2.2427149   2.09181057]\n",
            " [-0.76258638 -0.0129639   0.02294689]\n",
            " [ 0.10361396  0.76810164  0.02294689]\n",
            " [-0.09278474  1.25737476  0.51728944]\n",
            " [-1.29778048 -0.26734341  0.02294689]\n",
            " [ 1.4250404   0.31313437 -0.67378981]\n",
            " [ 1.22669602 -1.08704503 -0.98708463]\n",
            " [ 0.63173641  0.60792457  0.51728944]\n",
            " [-0.19549484  0.27099578 -1.86486906]\n",
            " [-1.76427998 -0.21708486  0.02294689]\n",
            " [-0.09278474 -1.08208918  0.02294689]\n",
            " [ 1.29412891 -1.07592107 -1.86486906]\n",
            " [ 0.28909584 -0.95054158 -1.16813236]\n",
            " [ 0.37810951  0.37526332  0.02294689]\n",
            " [-0.64119792 -0.71822505 -1.86486906]\n",
            " [-0.52406959 -1.18904405 -1.16813236]\n",
            " [-0.88855661  0.73593172  0.90073132]]\n"
          ],
          "name": "stdout"
        }
      ]
    },
    {
      "cell_type": "code",
      "metadata": {
        "colab": {
          "base_uri": "https://localhost:8080/"
        },
        "id": "t21tpwpLjIVq",
        "scrolled": false,
        "outputId": "f21cd5aa-ae56-4472-9cce-999e32866014"
      },
      "source": [
        "print(y_test)"
      ],
      "execution_count": null,
      "outputs": [
        {
          "output_type": "stream",
          "text": [
            "[1 0 1 1 1 2 1 2 2 1 1 1 1 0 1 0 2 1 1 1 0 1 1 1 0 1 0 1 1 2 1 1 0 2 2 2 1\n",
            " 2 1 1 1 0 2 2 2 1 2 1 2 2 1 1 0 1 1 1 2 1 2 0 1 1 1 1 1 1 1 1 2 0 0 2 1 1\n",
            " 2 1 0 1 1 2 1 1 1 1 1 1 0 2 0 1 1 1 1 0 1 2 1 1 1 1 0 2 2 1 1 1 1 1 1 1 1\n",
            " 2 1 2 2 1 2 1 1 0 1 0 1 1 1 1 1 1 1 2 1 1 1 2 1 1 2 2 1 1 1 1 1 0 0 0 1 1\n",
            " 1 0 1 1 2 0 2 2 1 1 1 1 1 1 0 2 1 0 1 1 0 1 1 1 1 1 1 0 0 0 0 1 0 2 1 1 1\n",
            " 1 0 1 2 1 1 1 2 1 2 1 1 1 2 1]\n"
          ],
          "name": "stdout"
        }
      ]
    },
    {
      "cell_type": "markdown",
      "metadata": {
        "id": "m3AxPeK0O_YE"
      },
      "source": [
        "A continuación, construimos el modelo K-NN:"
      ]
    },
    {
      "cell_type": "code",
      "metadata": {
        "colab": {
          "base_uri": "https://localhost:8080/"
        },
        "id": "620EKeGU-aIh",
        "outputId": "4e0a0689-bb6d-48e9-952a-c25c5d2e9f48"
      },
      "source": [
        "from sklearn.neighbors import KNeighborsClassifier\n",
        "\n",
        "# Crear clasificador KNN\n",
        "knn = KNeighborsClassifier (n_neighbors = 13)\n",
        "\n",
        "# Ajustar el clasificador a los datos\n",
        "knn.fit(X_train,y_train)\n"
      ],
      "execution_count": null,
      "outputs": [
        {
          "output_type": "execute_result",
          "data": {
            "text/plain": [
              "KNeighborsClassifier(algorithm='auto', leaf_size=30, metric='minkowski',\n",
              "                     metric_params=None, n_jobs=None, n_neighbors=13, p=2,\n",
              "                     weights='uniform')"
            ]
          },
          "metadata": {
            "tags": []
          },
          "execution_count": 71
        }
      ]
    },
    {
      "cell_type": "markdown",
      "metadata": {
        "id": "kHUrW8N9QN-E"
      },
      "source": [
        "Primero, crearemos un nuevo clasificador k-NN y estableceremos 'n_neighbors' en 13. En otras palabras, un nuevo punto de datos se etiqueta con la mayoría de los 13 puntos más cercanos.\n",
        "\n",
        "Hemos establecido \"n_neighbors\" en 13 como punto de partida. A continuación, entraremos en más detalles sobre cómo seleccionar mejor un valor para \"n_neighbors\" para que el modelo pueda mejorar su rendimiento.\n",
        "\n"
      ]
    },
    {
      "cell_type": "markdown",
      "metadata": {
        "id": "-d5IVmF1Qhgx"
      },
      "source": [
        "**Probando el modelo**\n",
        "\n",
        "A continuación, necesitamos entrenar el modelo, usando la función \"fit\" y pasaremos nuestros datos de entrenamiento como parámetros para ajustar nuestro modelo a los datos de entrenamiento. Una vez que se entrena el modelo, podemos usar la función \"predict\" en nuestro modelo para hacer predicciones sobre nuestros datos de prueba. "
      ]
    },
    {
      "cell_type": "code",
      "metadata": {
        "colab": {
          "base_uri": "https://localhost:8080/"
        },
        "id": "WHhJOcqbQHh7",
        "outputId": "678a0b4f-ecf6-4b42-bc2b-32c6a593e2bf"
      },
      "source": [
        "# Mostramos las primeras 100 predicciones del modelo en los datos de prueba\n",
        "array = knn.predict(X_test)[0:100]\n",
        "print(array)"
      ],
      "execution_count": null,
      "outputs": [
        {
          "output_type": "stream",
          "text": [
            "[1 0 1 1 1 2 1 1 2 1 1 1 1 0 1 0 2 1 1 1 1 1 1 1 0 1 0 1 1 2 1 1 0 2 2 2 1\n",
            " 2 1 1 1 0 1 2 2 1 2 1 2 2 1 1 0 1 1 1 2 1 2 0 1 1 1 1 1 1 1 1 1 0 1 1 1 1\n",
            " 2 1 0 1 1 2 1 1 1 1 1 1 0 2 0 1 1 1 1 0 1 2 1 1 1 1]\n"
          ],
          "name": "stdout"
        }
      ]
    },
    {
      "cell_type": "markdown",
      "metadata": {
        "id": "sbx2HfMtQy2L"
      },
      "source": [
        "Ahora veamos qué tan preciso es nuestro modelo en el conjunto de prueba completo. Para hacer esto, usaremos la función \"score\" para ver qué tan bien coinciden las predicciones de nuestro modelo con los resultados reales."
      ]
    },
    {
      "cell_type": "code",
      "metadata": {
        "colab": {
          "base_uri": "https://localhost:8080/"
        },
        "id": "hx0x8B8NQx21",
        "outputId": "898c01c0-8add-4c76-c79c-2db062eedf4f"
      },
      "source": [
        "# Comprobamos la precisión de nuestro modelo en los datos de prueba\n",
        "knn.score(X_test, y_test)"
      ],
      "execution_count": null,
      "outputs": [
        {
          "output_type": "execute_result",
          "data": {
            "text/plain": [
              "0.94"
            ]
          },
          "metadata": {
            "tags": []
          },
          "execution_count": 15
        }
      ]
    },
    {
      "cell_type": "markdown",
      "metadata": {
        "id": "HsyfQh8cqRCd"
      },
      "source": [
        "\n",
        "**Validación cruzada de k-Fold**\n",
        "\n",
        "La validación cruzada es cuando el conjunto de datos se divide aleatoriamente en grupos \"k\". Uno de los grupos se utiliza como conjunto de prueba y el resto se utiliza como conjunto de entrenamiento. El modelo se entrena en el conjunto de entrenamiento y se puntúa en el conjunto de prueba. Luego, el proceso se repite hasta que cada grupo único se haya utilizado como conjunto de prueba.\n",
        "Por ejemplo, para una validación cruzada de 5 veces, el conjunto de datos se dividiría en 5 grupos, y el modelo se entrenaría y probaría 5 veces por separado para que cada grupo tuviera la oportunidad de ser el conjunto de prueba."
      ]
    },
    {
      "cell_type": "markdown",
      "metadata": {
        "id": "V27_wkWIqeak"
      },
      "source": [
        "El método train-test-split que usamos anteriormente se llama \"holdout\". La validación cruzada es mejor que utilizar este último método porque la puntuación del método *holdout* depende de cómo se dividen los datos en conjuntos de prueba y de entrenamiento. La validación cruzada le da al modelo la oportunidad de probar en múltiples divisiones para que podamos tener una mejor idea de cómo funcionará el modelo en datos invisibles.\n",
        "\n",
        "Para entrenar y probar nuestro modelo mediante la validación cruzada, usaremos la función \"cross_val_score\" con un valor de validación cruzada de 5. \"cross_val_score\" toma nuestro modelo k-NN y nuestros datos como parámetros. Luego, divide nuestros datos en 5 grupos y ajusta y puntúa nuestros datos 5 veces por separado, registrando la puntuación de precisión en una matriz cada vez. Guardaremos las puntuaciones de precisión en la variable \"cv_scores\".\n",
        "Para encontrar el promedio de las 5 puntuaciones, usaremos la función media de numpy, pasando \"cv_score\". "
      ]
    },
    {
      "cell_type": "code",
      "metadata": {
        "colab": {
          "base_uri": "https://localhost:8080/"
        },
        "id": "2HYJASFsq7je",
        "outputId": "38da40a8-81d0-4ca9-b4ce-eb67e5a5079d"
      },
      "source": [
        "from sklearn.model_selection import cross_val_score\n",
        "import numpy as np\n",
        "\n",
        "#create a new KNN model\n",
        "knn_cv = KNeighborsClassifier(n_neighbors=13)\n",
        "\n",
        "#train model with cv of 5 \n",
        "cv_scores = cross_val_score(knn_cv, X, y, cv=5)\n",
        "\n",
        "#print each cv score (accuracy) and average them\n",
        "print(cv_scores)"
      ],
      "execution_count": null,
      "outputs": [
        {
          "output_type": "stream",
          "text": [
            "[0.92  0.895 0.96  0.89  0.955]\n"
          ],
          "name": "stdout"
        }
      ]
    },
    {
      "cell_type": "code",
      "metadata": {
        "colab": {
          "base_uri": "https://localhost:8080/"
        },
        "id": "5lJGQXq0rFO-",
        "outputId": "7feac7a4-1234-4fde-c72c-861ff0e204f7"
      },
      "source": [
        "np.mean(cv_scores)"
      ],
      "execution_count": null,
      "outputs": [
        {
          "output_type": "execute_result",
          "data": {
            "text/plain": [
              "0.924"
            ]
          },
          "metadata": {
            "tags": []
          },
          "execution_count": 17
        }
      ]
    },
    {
      "cell_type": "markdown",
      "metadata": {
        "id": "qRrYI1D_rY4h"
      },
      "source": [
        "Utilizando la validación cruzada, nuestra puntuación media es de alrededor del 93,90%. Esta es una representación más precisa de cómo funcionará nuestro modelo en datos no vistos que nuestras pruebas anteriores utilizando el método de *holdout*."
      ]
    },
    {
      "cell_type": "markdown",
      "metadata": {
        "id": "2VDMPJs7rywa"
      },
      "source": [
        "**Parámetros del modelo de hipertonía usando GridSearchCV**\n",
        "\n",
        "Cuando construimos nuestro modelo k-NN inicial, establecemos el parámetro \"n_neighbors\" en 13 como punto de partida sin una lógica real detrás de esa elección.\n",
        "\n",
        "Los parámetros de hipertonía se dan cuando atraviesa un proceso para encontrar los parámetros óptimos para su modelo para mejorar la precisión. En nuestro caso, usaremos GridSearchCV para encontrar el valor óptimo para \"n_neighbors\".\n",
        "\n",
        "GridSearchCV funciona entrenando nuestro modelo varias veces en un rango de parámetros que especificamos. De esa manera, podemos probar nuestro modelo con cada parámetro y determinar los valores óptimos para obtener los mejores resultados de precisión.\n",
        "\n",
        "Para nuestro modelo, especificaremos un rango de valores para \"n_neighbors\" para ver qué valor funciona mejor para nuestro modelo. Para hacer esto, crearemos un diccionario, estableciendo \"n_neighbors\" como clave y usando numpy para crear una matriz de valores impares.\n",
        "\n",
        "Nuestro nuevo modelo que usa la búsqueda de cuadrícula incluirá un nuevo clasificador k-NN, nuestro param_grid y un valor de validación cruzada de 5 para encontrar el valor óptimo para \"n_neighbors\". "
      ]
    },
    {
      "cell_type": "code",
      "metadata": {
        "id": "nqwug8naZg4m"
      },
      "source": [
        "prime = (5, 7, 11, 13, 17, 19, 23, 29, 31, 37, 41, 43, 47, 53, 59, 61, 67, 71, 73, 79, 83, 89, 97) "
      ],
      "execution_count": null,
      "outputs": []
    },
    {
      "cell_type": "code",
      "metadata": {
        "colab": {
          "base_uri": "https://localhost:8080/"
        },
        "id": "73GezvLJrTVQ",
        "outputId": "059e111a-d158-43e4-959e-aa8254c6c2b6"
      },
      "source": [
        "from sklearn.model_selection import GridSearchCV\n",
        "\n",
        "#Creamos un nuevo modelo KNN:\n",
        "knn2 = KNeighborsClassifier()\n",
        "\n",
        "#Creamos un diccionario de todos los valores que queremos probar para n_neighbors\n",
        "prime = (5, 7, 11, 13, 17, 19, 23, 29, 31, 37, 41, 43, 47, 53, 59, 61, 67, 71, 73, 79, 83, 89, 97) \n",
        "param_grid = {\"n_neighbors\": prime} #Debemos utilizar números primos para evitar duplicados\n",
        "\n",
        "#Usamos gridsearch para probar todos los valores de n_neighbors\n",
        "knn_gscv = GridSearchCV(knn2, param_grid, cv=5)\n",
        "\n",
        "#ajustar modelo a los datos\n",
        "knn_gscv.fit(X, y)"
      ],
      "execution_count": null,
      "outputs": [
        {
          "output_type": "execute_result",
          "data": {
            "text/plain": [
              "GridSearchCV(cv=5, error_score=nan,\n",
              "             estimator=KNeighborsClassifier(algorithm='auto', leaf_size=30,\n",
              "                                            metric='minkowski',\n",
              "                                            metric_params=None, n_jobs=None,\n",
              "                                            n_neighbors=5, p=2,\n",
              "                                            weights='uniform'),\n",
              "             iid='deprecated', n_jobs=None,\n",
              "             param_grid={'n_neighbors': (5, 7, 11, 13, 17, 19, 23, 29, 31, 37,\n",
              "                                         41, 43, 47, 53, 59, 61, 67, 71, 73, 79,\n",
              "                                         83, 89, 97)},\n",
              "             pre_dispatch='2*n_jobs', refit=True, return_train_score=False,\n",
              "             scoring=None, verbose=0)"
            ]
          },
          "metadata": {
            "tags": []
          },
          "execution_count": 19
        }
      ]
    },
    {
      "cell_type": "markdown",
      "metadata": {
        "id": "U-G7pOUisn-l"
      },
      "source": [
        "Ahora, podemos verificar cuál de nuestros valores para \"n_neighbors\" que probamos se desempeñó mejor. Para hacer esto, llamaremos \"best_params_\" en nuestro modelo:\n"
      ]
    },
    {
      "cell_type": "code",
      "metadata": {
        "colab": {
          "base_uri": "https://localhost:8080/"
        },
        "id": "hwwS36zpsm-x",
        "outputId": "22ddee8c-52ed-4d48-e0d1-bdc9fa7f9f3f"
      },
      "source": [
        "knn_gscv.best_params_"
      ],
      "execution_count": null,
      "outputs": [
        {
          "output_type": "execute_result",
          "data": {
            "text/plain": [
              "{'n_neighbors': 5}"
            ]
          },
          "metadata": {
            "tags": []
          },
          "execution_count": 20
        }
      ]
    },
    {
      "cell_type": "code",
      "metadata": {
        "colab": {
          "base_uri": "https://localhost:8080/"
        },
        "id": "BJw-W2P4s349",
        "outputId": "e22f634c-cb66-483c-b062-27de3b15885e"
      },
      "source": [
        "knn_gscv.best_score_"
      ],
      "execution_count": null,
      "outputs": [
        {
          "output_type": "execute_result",
          "data": {
            "text/plain": [
              "0.932"
            ]
          },
          "metadata": {
            "tags": []
          },
          "execution_count": 21
        }
      ]
    },
    {
      "cell_type": "code",
      "metadata": {
        "colab": {
          "base_uri": "https://localhost:8080/"
        },
        "id": "xpd5aGXQsWNP",
        "outputId": "67a2c912-fdfa-43ba-97fe-6e5059e660ca"
      },
      "source": [
        "from sklearn.neighbors import KNeighborsClassifier\n",
        "\n",
        "# Crear clasificador KNN\n",
        "knn = KNeighborsClassifier (n_neighbors = 5)\n",
        "\n",
        "# Ajustar el clasificador a los datos\n",
        "knn.fit(X_train,y_train)\n",
        "\n",
        "# Realizamos las predicciones ahora con k=5\n",
        "array = knn.predict(X_test)[0:100]\n",
        "\n",
        "data_df = pd.DataFrame(array)\n",
        "df = pd.DataFrame({\"Clave Asignada\": array})\n",
        "\n",
        "credict_2 ={0: \"Credict Gold\", 1:\"Credict Silver\", 2:\"Credict Bronze\"}\n",
        "\n",
        "df['Producto Recomendado'] = df['Clave Asignada'].apply(map_values, args = (credict_2,))\n",
        "print(df)\n"
      ],
      "execution_count": null,
      "outputs": [
        {
          "output_type": "stream",
          "text": [
            "    Clave Asignada Producto Recomendado\n",
            "0                1       Credict Silver\n",
            "1                0         Credict Gold\n",
            "2                1       Credict Silver\n",
            "3                1       Credict Silver\n",
            "4                1       Credict Silver\n",
            "..             ...                  ...\n",
            "95               2       Credict Bronze\n",
            "96               1       Credict Silver\n",
            "97               1       Credict Silver\n",
            "98               1       Credict Silver\n",
            "99               1       Credict Silver\n",
            "\n",
            "[100 rows x 2 columns]\n"
          ],
          "name": "stdout"
        }
      ]
    },
    {
      "cell_type": "markdown",
      "metadata": {
        "id": "IvLa8LSEu5va"
      },
      "source": [
        "https://towardsdatascience.com/building-a-k-nearest-neighbors-k-nn-model-with-scikit-learn-51209555453a"
      ]
    },
    {
      "cell_type": "markdown",
      "metadata": {
        "id": "tiTm_1bBW1vF"
      },
      "source": [
        "**Comprender la curva AUC-ROC en Python**"
      ]
    },
    {
      "cell_type": "markdown",
      "metadata": {
        "id": "yYCIz8AMW1-D"
      },
      "source": [
        "Probaremos el rendimiento de dos clasificadores en este conjunto de datos:"
      ]
    },
    {
      "cell_type": "code",
      "metadata": {
        "id": "dR751sn-VsIS"
      },
      "source": [
        "# train models\n",
        "from sklearn.linear_model import LogisticRegression\n",
        "from sklearn.neighbors import KNeighborsClassifier\n",
        "\n",
        "# Regresión Logística\n",
        "model1 = LogisticRegression()\n",
        "# knn\n",
        "model2 = KNeighborsClassifier(n_neighbors=4)\n",
        "\n",
        "# Ajustando el modelo:\n",
        "model1.fit(X_train, y_train)\n",
        "model2.fit(X_train, y_train)\n",
        "\n",
        "# Predecir probabilidades:\n",
        "pred_prob1 = model1.predict_proba(X_test)\n",
        "pred_prob2 = model2.predict_proba(X_test)"
      ],
      "execution_count": null,
      "outputs": []
    },
    {
      "cell_type": "code",
      "metadata": {
        "colab": {
          "base_uri": "https://localhost:8080/"
        },
        "id": "LvUUyeZhXtUz",
        "outputId": "26ec2957-4087-4697-d218-1bbad80ff5e3"
      },
      "source": [
        "print(pred_prob1)"
      ],
      "execution_count": null,
      "outputs": [
        {
          "output_type": "stream",
          "text": [
            "[[9.98175135e-04 8.34782862e-01 1.64218962e-01]\n",
            " [7.25612170e-01 2.72820790e-01 1.56704068e-03]\n",
            " [1.19088364e-05 5.66143227e-01 4.33844864e-01]\n",
            " [2.78390311e-05 6.78772233e-01 3.21199928e-01]\n",
            " [2.24290443e-03 9.17112124e-01 8.06449717e-02]\n",
            " [1.71645515e-05 3.46943145e-01 6.53039690e-01]\n",
            " [4.82231600e-05 8.67499751e-01 1.32452026e-01]\n",
            " [1.38112941e-02 8.91431749e-01 9.47569572e-02]\n",
            " [4.27887919e-07 5.52419286e-01 4.47580286e-01]\n",
            " [3.26246932e-03 9.40011330e-01 5.67262004e-02]\n",
            " [2.88400592e-04 8.54899681e-01 1.44811918e-01]\n",
            " [3.09169795e-02 9.54256585e-01 1.48264356e-02]\n",
            " [3.93768897e-05 8.29984510e-01 1.69976113e-01]\n",
            " [9.99780333e-01 2.19646230e-04 2.09612389e-08]\n",
            " [1.27541243e-02 8.85078565e-01 1.02167310e-01]\n",
            " [9.94936360e-01 5.05991376e-03 3.72574864e-06]\n",
            " [8.58811081e-08 2.57564441e-01 7.42435473e-01]\n",
            " [4.05113091e-02 9.37872259e-01 2.16164317e-02]\n",
            " [5.95484075e-07 2.29534615e-01 7.70464789e-01]\n",
            " [2.16504181e-03 9.36966412e-01 6.08685460e-02]\n",
            " [4.87427723e-01 5.09516790e-01 3.05548706e-03]\n",
            " [4.48400630e-03 9.22264759e-01 7.32512344e-02]\n",
            " [5.34182512e-05 8.67215304e-01 1.32731278e-01]\n",
            " [2.13578064e-01 7.83496070e-01 2.92586585e-03]\n",
            " [8.32365594e-01 1.66382287e-01 1.25211952e-03]\n",
            " [3.10600573e-03 8.63639329e-01 1.33254665e-01]\n",
            " [9.77441768e-01 2.25331880e-02 2.50435580e-05]\n",
            " [2.27521421e-03 9.01983459e-01 9.57413270e-02]\n",
            " [1.70527996e-05 6.22565024e-01 3.77417923e-01]\n",
            " [5.89528651e-03 8.65547377e-01 1.28557336e-01]\n",
            " [1.05423827e-04 6.87322040e-01 3.12572537e-01]\n",
            " [3.50384206e-04 9.33629688e-01 6.60199274e-02]\n",
            " [8.34507831e-01 1.64616997e-01 8.75172384e-04]\n",
            " [1.75617777e-08 2.33014506e-01 7.66985476e-01]\n",
            " [1.73376797e-06 4.32750100e-01 5.67248166e-01]\n",
            " [1.10480618e-12 7.53723849e-03 9.92462762e-01]\n",
            " [6.72191833e-05 6.43810599e-01 3.56122182e-01]\n",
            " [5.34854100e-06 7.07786709e-01 2.92207942e-01]\n",
            " [7.79014450e-03 8.97479825e-01 9.47300301e-02]\n",
            " [6.95762574e-05 8.12913828e-01 1.87016595e-01]\n",
            " [7.11478072e-03 9.35745812e-01 5.71394073e-02]\n",
            " [3.42432866e-01 6.46742821e-01 1.08243132e-02]\n",
            " [1.50038986e-04 9.37294210e-01 6.25557506e-02]\n",
            " [7.09314892e-07 4.46799682e-01 5.53199609e-01]\n",
            " [3.41154927e-05 3.88176520e-01 6.11789365e-01]\n",
            " [2.74965897e-05 6.79604828e-01 3.20367675e-01]\n",
            " [3.40464946e-07 4.57884608e-01 5.42115052e-01]\n",
            " [1.39680511e-06 3.61820065e-01 6.38178538e-01]\n",
            " [2.52353838e-09 3.93194789e-02 9.60680519e-01]\n",
            " [9.11026161e-06 7.87848934e-01 2.12141956e-01]\n",
            " [5.86546004e-01 4.05241600e-01 8.21239553e-03]\n",
            " [9.16078655e-05 8.88276134e-01 1.11632258e-01]\n",
            " [1.71623562e-01 8.10075714e-01 1.83007238e-02]\n",
            " [3.24270607e-05 6.73706797e-01 3.26260776e-01]\n",
            " [8.56400580e-05 8.34882305e-01 1.65032054e-01]\n",
            " [2.13492224e-04 9.11973641e-01 8.78128666e-02]\n",
            " [8.49233881e-09 2.27094640e-01 7.72905352e-01]\n",
            " [4.69982303e-02 9.42889833e-01 1.01119365e-02]\n",
            " [3.60713437e-06 6.81700320e-01 3.18296073e-01]\n",
            " [9.88099510e-01 1.18835179e-02 1.69717163e-05]\n",
            " [7.85450941e-06 7.18502703e-01 2.81489443e-01]\n",
            " [1.18227377e-03 8.37408680e-01 1.61409046e-01]\n",
            " [8.64302440e-02 8.94607893e-01 1.89618629e-02]\n",
            " [1.49110510e-02 9.47418153e-01 3.76707960e-02]\n",
            " [3.08626048e-02 9.13811696e-01 5.53256988e-02]\n",
            " [8.74702063e-03 9.38848433e-01 5.24045464e-02]\n",
            " [1.35033648e-02 9.69671011e-01 1.68256246e-02]\n",
            " [3.44730649e-04 7.38120045e-01 2.61535224e-01]\n",
            " [1.84769894e-03 7.94132182e-01 2.04020119e-01]\n",
            " [8.08804528e-01 1.89427544e-01 1.76792757e-03]\n",
            " [7.08891487e-01 2.90445130e-01 6.63382822e-04]\n",
            " [6.43128108e-02 8.81787846e-01 5.38993433e-02]\n",
            " [2.44534239e-05 5.29586069e-01 4.70389478e-01]\n",
            " [6.03595253e-03 9.68684238e-01 2.52798094e-02]\n",
            " [1.93257767e-08 5.74841919e-02 9.42515789e-01]\n",
            " [3.13428096e-03 9.29383013e-01 6.74827065e-02]\n",
            " [7.25263995e-01 2.73362412e-01 1.37359370e-03]\n",
            " [1.70629412e-03 9.69865601e-01 2.84281053e-02]\n",
            " [3.77599434e-02 9.43979523e-01 1.82605340e-02]\n",
            " [3.42559217e-09 3.65401348e-02 9.63459862e-01]\n",
            " [1.98070003e-02 9.50727022e-01 2.94659780e-02]\n",
            " [5.51609243e-03 9.15524084e-01 7.89598240e-02]\n",
            " [3.24640218e-04 8.16112999e-01 1.83562361e-01]\n",
            " [2.50959581e-05 7.69250176e-01 2.30724728e-01]\n",
            " [3.50448428e-04 9.15244889e-01 8.44046627e-02]\n",
            " [7.01326436e-06 6.11882266e-01 3.88110720e-01]\n",
            " [8.48452305e-01 1.50908705e-01 6.38989842e-04]\n",
            " [6.10224604e-06 7.24521231e-01 2.75472667e-01]\n",
            " [3.18742239e-01 6.68520898e-01 1.27368634e-02]\n",
            " [1.25631801e-03 9.39475515e-01 5.92681667e-02]\n",
            " [3.09855893e-06 4.16991698e-01 5.83005204e-01]\n",
            " [8.57308385e-03 9.60951693e-01 3.04752229e-02]\n",
            " [4.47028937e-04 8.80954639e-01 1.18598332e-01]\n",
            " [9.78898629e-01 2.10913533e-02 1.00176708e-05]\n",
            " [2.21148716e-06 4.00517550e-01 5.99480239e-01]\n",
            " [2.59665223e-07 4.27730430e-01 5.72269310e-01]\n",
            " [1.81817370e-05 8.14014926e-01 1.85966892e-01]\n",
            " [1.16508420e-02 9.14836220e-01 7.35129385e-02]\n",
            " [9.28773318e-04 9.41886989e-01 5.71842373e-02]\n",
            " [4.60542500e-05 6.97418488e-01 3.02535458e-01]\n",
            " [9.86485850e-01 1.35015126e-02 1.26370492e-05]\n",
            " [8.96669202e-04 7.14763477e-01 2.84339854e-01]\n",
            " [1.75447377e-07 1.12638079e-01 8.87361746e-01]\n",
            " [3.50618533e-04 9.05600362e-01 9.40490190e-02]\n",
            " [1.40004472e-01 8.54211007e-01 5.78452126e-03]\n",
            " [1.80245150e-03 8.63746612e-01 1.34450936e-01]\n",
            " [1.34541496e-02 9.18476920e-01 6.80689300e-02]\n",
            " [2.20227152e-03 9.03135636e-01 9.46620924e-02]\n",
            " [1.09962573e-03 9.40811135e-01 5.80892388e-02]\n",
            " [3.82008672e-02 9.47943809e-01 1.38553233e-02]\n",
            " [3.07194033e-05 6.96566839e-01 3.03402441e-01]\n",
            " [7.08326924e-09 5.97912983e-02 9.40208695e-01]\n",
            " [2.01358434e-05 6.57672132e-01 3.42307733e-01]\n",
            " [3.37191338e-06 6.76818411e-01 3.23178217e-01]\n",
            " [2.08687621e-04 5.96812597e-01 4.02978716e-01]\n",
            " [1.01033460e-02 9.72379358e-01 1.75172961e-02]\n",
            " [1.50903929e-06 4.13693110e-01 5.86305381e-01]\n",
            " [4.35051369e-04 8.31905762e-01 1.67659186e-01]\n",
            " [3.68439816e-03 9.61203093e-01 3.51125089e-02]\n",
            " [6.06636417e-01 3.91841662e-01 1.52192115e-03]\n",
            " [5.70344529e-07 2.21017263e-01 7.78982166e-01]\n",
            " [8.93066592e-01 1.06295460e-01 6.37948063e-04]\n",
            " [7.09269488e-06 5.87401322e-01 4.12591586e-01]\n",
            " [5.00995934e-05 6.29522488e-01 3.70427412e-01]\n",
            " [9.86526232e-04 8.49915164e-01 1.49098309e-01]\n",
            " [2.74312740e-05 6.53548529e-01 3.46424040e-01]\n",
            " [2.41619123e-04 7.38793038e-01 2.60965343e-01]\n",
            " [8.35913215e-06 4.12674512e-01 5.87317129e-01]\n",
            " [2.81509828e-03 9.47203102e-01 4.99817995e-02]\n",
            " [2.26105741e-10 8.52837545e-02 9.14716245e-01]\n",
            " [8.95378157e-04 8.81448444e-01 1.17656178e-01]\n",
            " [2.49140922e-05 5.09193386e-01 4.90781700e-01]\n",
            " [7.66337322e-06 4.63824218e-01 5.36168118e-01]\n",
            " [1.89665431e-06 5.28694033e-01 4.71304070e-01]\n",
            " [9.56608543e-02 8.83327525e-01 2.10116211e-02]\n",
            " [3.55917493e-05 8.34708736e-01 1.65255672e-01]\n",
            " [8.53710594e-07 2.77061036e-01 7.22938110e-01]\n",
            " [2.22741133e-04 6.19913507e-01 3.79863752e-01]\n",
            " [1.35761374e-01 8.59136932e-01 5.10169386e-03]\n",
            " [3.37908127e-05 6.54126772e-01 3.45839437e-01]\n",
            " [7.79102800e-05 8.12629488e-01 1.87292601e-01]\n",
            " [7.66943097e-03 9.15255617e-01 7.70749520e-02]\n",
            " [9.95990679e-01 3.99767667e-03 1.16444541e-05]\n",
            " [5.76954329e-01 4.21367039e-01 1.67863165e-03]\n",
            " [4.86682317e-01 5.08381640e-01 4.93604291e-03]\n",
            " [5.37288194e-01 4.58867418e-01 3.84438797e-03]\n",
            " [2.34119608e-05 4.97766634e-01 5.02209954e-01]\n",
            " [7.87425120e-03 9.08955953e-01 8.31697955e-02]\n",
            " [1.11554212e-02 9.15565111e-01 7.32794677e-02]\n",
            " [8.06341386e-01 1.91937566e-01 1.72104784e-03]\n",
            " [4.10662495e-06 3.54700521e-01 6.45295373e-01]\n",
            " [2.76552116e-01 7.20169798e-01 3.27808633e-03]\n",
            " [1.28420573e-10 2.50456049e-02 9.74954395e-01]\n",
            " [9.98202548e-01 1.79588178e-03 1.57063023e-06]\n",
            " [4.68855353e-07 4.35083320e-01 5.64916211e-01]\n",
            " [1.14630412e-06 1.82144059e-01 8.17854795e-01]\n",
            " [2.38541889e-06 5.13935045e-01 4.86062570e-01]\n",
            " [4.70456948e-03 9.43745052e-01 5.15503789e-02]\n",
            " [3.25902763e-03 9.40348659e-01 5.63923133e-02]\n",
            " [3.02881419e-04 9.29445851e-01 7.02512672e-02]\n",
            " [3.77509422e-03 9.42714238e-01 5.35106681e-02]\n",
            " [2.46405004e-05 5.91666921e-01 4.08308438e-01]\n",
            " [9.61866598e-01 3.80896779e-02 4.37245275e-05]\n",
            " [8.55521922e-08 3.57749310e-01 6.42250604e-01]\n",
            " [4.97515570e-05 8.25427868e-01 1.74522381e-01]\n",
            " [7.56690328e-01 2.42221175e-01 1.08849676e-03]\n",
            " [3.96339286e-06 4.01997088e-01 5.97998949e-01]\n",
            " [1.26519576e-02 9.47969052e-01 3.93789905e-02]\n",
            " [7.52991725e-01 2.45803232e-01 1.20504379e-03]\n",
            " [8.67597587e-01 1.30894457e-01 1.50795596e-03]\n",
            " [1.46207531e-05 5.43153496e-01 4.56831883e-01]\n",
            " [1.41514286e-01 8.47567873e-01 1.09178409e-02]\n",
            " [1.35427738e-03 9.64081239e-01 3.45644838e-02]\n",
            " [1.58498719e-01 8.33577936e-01 7.92334577e-03]\n",
            " [6.71291453e-05 8.15788405e-01 1.84144466e-01]\n",
            " [9.92111562e-01 7.88486390e-03 3.57364498e-06]\n",
            " [9.70140690e-01 2.98155826e-02 4.37278631e-05]\n",
            " [9.96917981e-01 3.08081244e-03 1.20613467e-06]\n",
            " [8.31664800e-01 1.67495268e-01 8.39931865e-04]\n",
            " [6.60186694e-05 8.53068188e-01 1.46865793e-01]\n",
            " [9.98001407e-01 1.99803598e-03 5.57224718e-07]\n",
            " [7.46444624e-07 2.48245898e-01 7.51753355e-01]\n",
            " [1.38860280e-02 9.47255318e-01 3.88586543e-02]\n",
            " [9.86137243e-01 1.37749894e-02 8.77671363e-05]\n",
            " [4.44792054e-03 9.57348401e-01 3.82036789e-02]\n",
            " [1.09738328e-01 8.75642463e-01 1.46192095e-02]\n",
            " [6.95259064e-01 3.03351286e-01 1.38964950e-03]\n",
            " [1.96063963e-03 9.59673075e-01 3.83662849e-02]\n",
            " [2.15641776e-03 8.38123149e-01 1.59720434e-01]\n",
            " [3.46206944e-07 2.03389947e-01 7.96609707e-01]\n",
            " [3.25428443e-02 9.23779374e-01 4.36777817e-02]\n",
            " [7.65217032e-03 9.64563983e-01 2.77838463e-02]\n",
            " [4.13851194e-03 9.75259671e-01 2.06018167e-02]\n",
            " [3.96409543e-06 4.90311832e-01 5.09684204e-01]\n",
            " [3.03502088e-07 2.17669176e-01 7.82330520e-01]\n",
            " [4.35421393e-06 5.07033918e-01 4.92961728e-01]\n",
            " [1.10390859e-02 9.35551635e-01 5.34092787e-02]\n",
            " [5.42465139e-05 8.47815885e-01 1.52129869e-01]\n",
            " [3.20792046e-06 5.92266725e-01 4.07730067e-01]\n",
            " [2.54030949e-01 7.40913916e-01 5.05513430e-03]]\n"
          ],
          "name": "stdout"
        }
      ]
    },
    {
      "cell_type": "code",
      "metadata": {
        "colab": {
          "base_uri": "https://localhost:8080/"
        },
        "id": "xMCGRVfKX1EQ",
        "outputId": "849cf9f1-8081-4fab-8442-c396ce687a31"
      },
      "source": [
        "print(pred_prob2)"
      ],
      "execution_count": null,
      "outputs": [
        {
          "output_type": "stream",
          "text": [
            "[[0.   1.   0.  ]\n",
            " [1.   0.   0.  ]\n",
            " [0.   1.   0.  ]\n",
            " [0.   1.   0.  ]\n",
            " [0.   1.   0.  ]\n",
            " [0.   0.   1.  ]\n",
            " [0.   1.   0.  ]\n",
            " [0.   0.5  0.5 ]\n",
            " [0.   0.   1.  ]\n",
            " [0.   1.   0.  ]\n",
            " [0.   1.   0.  ]\n",
            " [0.   1.   0.  ]\n",
            " [0.   1.   0.  ]\n",
            " [1.   0.   0.  ]\n",
            " [0.   0.75 0.25]\n",
            " [1.   0.   0.  ]\n",
            " [0.   0.   1.  ]\n",
            " [0.   1.   0.  ]\n",
            " [0.   0.75 0.25]\n",
            " [0.   1.   0.  ]\n",
            " [0.5  0.5  0.  ]\n",
            " [0.   1.   0.  ]\n",
            " [0.   0.75 0.25]\n",
            " [0.   0.75 0.25]\n",
            " [1.   0.   0.  ]\n",
            " [0.   1.   0.  ]\n",
            " [1.   0.   0.  ]\n",
            " [0.   1.   0.  ]\n",
            " [0.   1.   0.  ]\n",
            " [0.   0.5  0.5 ]\n",
            " [0.   1.   0.  ]\n",
            " [0.   1.   0.  ]\n",
            " [1.   0.   0.  ]\n",
            " [0.   0.   1.  ]\n",
            " [0.   0.25 0.75]\n",
            " [0.   0.   1.  ]\n",
            " [0.   1.   0.  ]\n",
            " [0.   0.25 0.75]\n",
            " [0.   1.   0.  ]\n",
            " [0.   1.   0.  ]\n",
            " [0.   1.   0.  ]\n",
            " [1.   0.   0.  ]\n",
            " [0.   0.75 0.25]\n",
            " [0.   0.   1.  ]\n",
            " [0.   0.   1.  ]\n",
            " [0.   1.   0.  ]\n",
            " [0.   0.   1.  ]\n",
            " [0.   0.5  0.5 ]\n",
            " [0.   0.   1.  ]\n",
            " [0.   0.25 0.75]\n",
            " [0.25 0.75 0.  ]\n",
            " [0.   1.   0.  ]\n",
            " [0.5  0.5  0.  ]\n",
            " [0.   1.   0.  ]\n",
            " [0.   1.   0.  ]\n",
            " [0.   1.   0.  ]\n",
            " [0.   0.   1.  ]\n",
            " [0.   1.   0.  ]\n",
            " [0.   0.25 0.75]\n",
            " [1.   0.   0.  ]\n",
            " [0.   0.5  0.5 ]\n",
            " [0.   1.   0.  ]\n",
            " [0.   1.   0.  ]\n",
            " [0.   1.   0.  ]\n",
            " [0.   1.   0.  ]\n",
            " [0.   1.   0.  ]\n",
            " [0.   1.   0.  ]\n",
            " [0.   0.5  0.5 ]\n",
            " [0.   0.5  0.5 ]\n",
            " [0.75 0.25 0.  ]\n",
            " [0.5  0.5  0.  ]\n",
            " [0.25 0.5  0.25]\n",
            " [0.   1.   0.  ]\n",
            " [0.   1.   0.  ]\n",
            " [0.   0.   1.  ]\n",
            " [0.   1.   0.  ]\n",
            " [1.   0.   0.  ]\n",
            " [0.   1.   0.  ]\n",
            " [0.   1.   0.  ]\n",
            " [0.   0.   1.  ]\n",
            " [0.   1.   0.  ]\n",
            " [0.   1.   0.  ]\n",
            " [0.   1.   0.  ]\n",
            " [0.   1.   0.  ]\n",
            " [0.   1.   0.  ]\n",
            " [0.   1.   0.  ]\n",
            " [1.   0.   0.  ]\n",
            " [0.   0.25 0.75]\n",
            " [0.5  0.5  0.  ]\n",
            " [0.   1.   0.  ]\n",
            " [0.   1.   0.  ]\n",
            " [0.   1.   0.  ]\n",
            " [0.   1.   0.  ]\n",
            " [1.   0.   0.  ]\n",
            " [0.   0.5  0.5 ]\n",
            " [0.   0.   1.  ]\n",
            " [0.   0.75 0.25]\n",
            " [0.   1.   0.  ]\n",
            " [0.   1.   0.  ]\n",
            " [0.   1.   0.  ]\n",
            " [1.   0.   0.  ]\n",
            " [0.   0.25 0.75]\n",
            " [0.   0.   1.  ]\n",
            " [0.   1.   0.  ]\n",
            " [0.   1.   0.  ]\n",
            " [0.   1.   0.  ]\n",
            " [0.   1.   0.  ]\n",
            " [0.   1.   0.  ]\n",
            " [0.   1.   0.  ]\n",
            " [0.   1.   0.  ]\n",
            " [0.   1.   0.  ]\n",
            " [0.   0.   1.  ]\n",
            " [0.   1.   0.  ]\n",
            " [0.   0.   1.  ]\n",
            " [0.   0.   1.  ]\n",
            " [0.   1.   0.  ]\n",
            " [0.   0.25 0.75]\n",
            " [0.   1.   0.  ]\n",
            " [0.   1.   0.  ]\n",
            " [1.   0.   0.  ]\n",
            " [0.   0.75 0.25]\n",
            " [1.   0.   0.  ]\n",
            " [0.   0.75 0.25]\n",
            " [0.   1.   0.  ]\n",
            " [0.   1.   0.  ]\n",
            " [0.   1.   0.  ]\n",
            " [0.   1.   0.  ]\n",
            " [0.   1.   0.  ]\n",
            " [0.   1.   0.  ]\n",
            " [0.   0.   1.  ]\n",
            " [0.   1.   0.  ]\n",
            " [0.   1.   0.  ]\n",
            " [0.   1.   0.  ]\n",
            " [0.   1.   0.  ]\n",
            " [0.   1.   0.  ]\n",
            " [0.   1.   0.  ]\n",
            " [0.   0.75 0.25]\n",
            " [0.   0.25 0.75]\n",
            " [0.   0.75 0.25]\n",
            " [0.   1.   0.  ]\n",
            " [0.   1.   0.  ]\n",
            " [0.   1.   0.  ]\n",
            " [0.5  0.5  0.  ]\n",
            " [0.5  0.5  0.  ]\n",
            " [1.   0.   0.  ]\n",
            " [1.   0.   0.  ]\n",
            " [0.   1.   0.  ]\n",
            " [0.   1.   0.  ]\n",
            " [0.   1.   0.  ]\n",
            " [1.   0.   0.  ]\n",
            " [0.   0.75 0.25]\n",
            " [0.   1.   0.  ]\n",
            " [0.   0.   1.  ]\n",
            " [1.   0.   0.  ]\n",
            " [0.   0.25 0.75]\n",
            " [0.   0.   1.  ]\n",
            " [0.   0.75 0.25]\n",
            " [0.   1.   0.  ]\n",
            " [0.   1.   0.  ]\n",
            " [0.   1.   0.  ]\n",
            " [0.   1.   0.  ]\n",
            " [0.   1.   0.  ]\n",
            " [1.   0.   0.  ]\n",
            " [0.   0.   1.  ]\n",
            " [0.   1.   0.  ]\n",
            " [1.   0.   0.  ]\n",
            " [0.   1.   0.  ]\n",
            " [0.   1.   0.  ]\n",
            " [0.75 0.25 0.  ]\n",
            " [0.25 0.75 0.  ]\n",
            " [0.   1.   0.  ]\n",
            " [0.   1.   0.  ]\n",
            " [0.   1.   0.  ]\n",
            " [0.   1.   0.  ]\n",
            " [0.   1.   0.  ]\n",
            " [1.   0.   0.  ]\n",
            " [1.   0.   0.  ]\n",
            " [1.   0.   0.  ]\n",
            " [1.   0.   0.  ]\n",
            " [0.   1.   0.  ]\n",
            " [1.   0.   0.  ]\n",
            " [0.   0.75 0.25]\n",
            " [0.   1.   0.  ]\n",
            " [0.25 0.75 0.  ]\n",
            " [0.   1.   0.  ]\n",
            " [0.25 0.75 0.  ]\n",
            " [1.   0.   0.  ]\n",
            " [0.   1.   0.  ]\n",
            " [0.   0.25 0.75]\n",
            " [0.   0.75 0.25]\n",
            " [0.   1.   0.  ]\n",
            " [0.   1.   0.  ]\n",
            " [0.   0.75 0.25]\n",
            " [0.   0.75 0.25]\n",
            " [0.   0.75 0.25]\n",
            " [0.   1.   0.  ]\n",
            " [0.   1.   0.  ]\n",
            " [0.   1.   0.  ]\n",
            " [0.   0.75 0.25]\n",
            " [0.   1.   0.  ]]\n"
          ],
          "name": "stdout"
        }
      ]
    },
    {
      "cell_type": "markdown",
      "metadata": {
        "id": "rB1Nez-PXGqw"
      },
      "source": [
        "Sklearn tiene un método muy potente roc_curve () que calcula la ROC para su clasificador en cuestión de segundos. Devuelve los valores de umbral, TPR y FPR:"
      ]
    },
    {
      "cell_type": "code",
      "metadata": {
        "id": "1HMh8HOvVtjb"
      },
      "source": [
        "from sklearn.metrics import roc_curve\n",
        "\n",
        "# roc curve for models\n",
        "fpr1, tpr1, thresh1 = roc_curve(y_test, pred_prob1[:,1], pos_label=1)\n",
        "fpr2, tpr2, thresh2 = roc_curve(y_test, pred_prob2[:,1], pos_label=1)\n",
        "\n",
        "# roc curve for tpr = fpr \n",
        "random_probs = [0 for i in range(len(y_test))]\n",
        "p_fpr, p_tpr, _ = roc_curve(y_test, random_probs, pos_label=1)"
      ],
      "execution_count": null,
      "outputs": []
    },
    {
      "cell_type": "markdown",
      "metadata": {
        "id": "gZE69tEtXKS1"
      },
      "source": [
        "La puntuación AUC se puede calcular utilizando el método roc_auc_score () de sklearn:"
      ]
    },
    {
      "cell_type": "code",
      "metadata": {
        "id": "r4dCHzvhVxF9"
      },
      "source": [
        "#from sklearn.metrics import roc_auc_score\n",
        "\n",
        "# auc scores\n",
        "#auc_score1 = roc_auc_score(y_test, pred_prob1[:,1])\n",
        "#auc_score2 = roc_auc_score(y_test, pred_prob2[:,1])\n",
        "\n",
        "#print(auc_score1, auc_score2)\n"
      ],
      "execution_count": null,
      "outputs": []
    },
    {
      "cell_type": "markdown",
      "metadata": {
        "id": "vL6_ElJqXQ7x"
      },
      "source": [
        "También podemos trazar las curvas ROC para los dos algoritmos usando matplotlib:"
      ]
    },
    {
      "cell_type": "code",
      "metadata": {
        "colab": {
          "base_uri": "https://localhost:8080/",
          "height": 376
        },
        "id": "UW447s2BWGa2",
        "outputId": "afb5e8e8-59b7-4064-fe5a-509f8a8a0784"
      },
      "source": [
        "# matplotlib\n",
        "import matplotlib.pyplot as plt\n",
        "plt.style.use('seaborn')\n",
        "\n",
        "plt.plot(fpr1, tpr1, linestyle='--',color='orange', label='Logistic Regression')\n",
        "plt.plot(fpr2, tpr2, linestyle='--',color='green', label='KNN')\n",
        "plt.plot(p_fpr, p_tpr, linestyle='--', color='blue')\n",
        "plt.title('ROC curve')\n",
        "plt.xlabel('False Positive Rate')\n",
        "plt.ylabel('True Positive rate')\n",
        "\n",
        "plt.legend(loc='best')\n",
        "plt.savefig('ROC',dpi=300)\n",
        "plt.show();"
      ],
      "execution_count": null,
      "outputs": [
        {
          "output_type": "display_data",
          "data": {
            "image/png": "[encoded data removed]",
            "text/plain": [
              "<Figure size 576x396 with 1 Axes>"
            ]
          },
          "metadata": {
            "tags": []
          }
        }
      ]
    },
    {
      "cell_type": "markdown",
      "metadata": {
        "id": "RQR48i6FZ-bX"
      },
      "source": [
        "Es evidente a partir del gráfico que el AUC de la curva ROC de regresión logística es más bajo que el de la curva KNN ROC. Por lo tanto, podemos decir que KNN hizo un mejor trabajo al clasificar la clase positiva en el conjunto de datos."
      ]
    },
    {
      "cell_type": "markdown",
      "metadata": {
        "id": "xoe1jK6taQcm"
      },
      "source": [
        "**AUC-ROC para clasificación de clases múltiples**\n",
        "\n",
        "\n"
      ]
    },
    {
      "cell_type": "markdown",
      "metadata": {
        "id": "J5VSHDuPaXZ6"
      },
      "source": [
        "La curva AUC-ROC es sólo para problemas de clasificación binaria. Pero podemos extenderlo a problemas de clasificación multiclase utilizando la técnica Uno contra Todos.\n",
        "\n",
        "Entonces, si tenemos tres clases 0, 1 y 2, la ROC para la clase 0 se generará clasificando 0 contra no 0, es decir, 1 y 2. La ROC para la clase 1 se generará clasificando 1 contra no 1, y así sucesivamente.\n",
        "\n",
        "La curva ROC para modelos de clasificación de clases múltiples se puede determinar de la siguiente manera:"
      ]
    },
    {
      "cell_type": "code",
      "metadata": {
        "colab": {
          "base_uri": "https://localhost:8080/",
          "height": 376
        },
        "id": "In054sIIaFoe",
        "outputId": "03c4178e-30d8-47b6-f3c1-749eeadb6094"
      },
      "source": [
        "# multi-class classification\n",
        "from sklearn.multiclass import OneVsRestClassifier\n",
        "from sklearn.linear_model import LogisticRegression\n",
        "from sklearn.model_selection import train_test_split\n",
        "from sklearn.metrics import roc_curve\n",
        "from sklearn.metrics import roc_auc_score\n",
        "\n",
        "# fit model\n",
        "clf = OneVsRestClassifier(LogisticRegression())\n",
        "clf.fit(X_train, y_train)\n",
        "pred = clf.predict(X_test)\n",
        "pred_prob = clf.predict_proba(X_test)\n",
        "\n",
        "# roc curve for classes\n",
        "fpr = {}\n",
        "tpr = {}\n",
        "thresh ={}\n",
        "\n",
        "n_class = 3\n",
        "\n",
        "for i in range(n_class):    \n",
        "    fpr[i], tpr[i], thresh[i] = roc_curve(y_test, pred_prob[:,i], pos_label=i)\n",
        "    \n",
        "# plotting    \n",
        "plt.plot(fpr[0], tpr[0], linestyle='dotted',color='orange', label='Class 0 vs Rest')\n",
        "plt.plot(fpr[1], tpr[1], linestyle='dotted',color='green', label='Class 1 vs Rest')\n",
        "plt.plot(fpr[2], tpr[2], linestyle='dotted',color='blue', label='Class 2 vs Rest')\n",
        "plt.title('Multiclass ROC curve')\n",
        "plt.xlabel('False Positive Rate')\n",
        "plt.ylabel('True Positive rate')\n",
        "plt.legend(loc='best')\n",
        "plt.savefig('Multiclass ROC',dpi=300);"
      ],
      "execution_count": null,
      "outputs": [
        {
          "output_type": "display_data",
          "data": {
            "image/png": "[encoded data removed]",
            "text/plain": [
              "<Figure size 576x396 with 1 Axes>"
            ]
          },
          "metadata": {
            "tags": []
          }
        }
      ]
    },
    {
      "cell_type": "markdown",
      "metadata": {
        "id": "rLEXJaI4WO5r"
      },
      "source": [
        "https://www.analyticsvidhya.com/blog/2020/06/auc-roc-curve-machine-learning/"
      ]
    }
  ]
}